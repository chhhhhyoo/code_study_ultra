{
 "cells": [
  {
   "cell_type": "code",
   "execution_count": null,
   "id": "a3016d19",
   "metadata": {},
   "outputs": [],
   "source": [
    "def solution(n, computers):\n",
    "    visited = [False] * n\n",
    "    answer = 0\n",
    "\n",
    "    def dfs(i):\n",
    "        visited[i] = True\n",
    "        for j in range(n):\n",
    "            if computers[i][j] == 1 and not visited[j]:\n",
    "                dfs(j)\n",
    "\n",
    "    for i in range(n):\n",
    "        if not visited[i]:\n",
    "            dfs(i)\n",
    "            answer += 1\n",
    "            \n",
    "    return answer"
   ]
  },
  {
   "cell_type": "markdown",
   "id": "1416df59",
   "metadata": {},
   "source": [
    "Just like the idea of backtracking and tracking traversal state from Conceptual Question 3,\n",
    "\n",
    "the **visited** array ensures that we don't revisit already explored nodes."
   ]
  }
 ],
 "metadata": {
  "kernelspec": {
   "display_name": "Python 3",
   "language": "python",
   "name": "python3"
  },
  "language_info": {
   "name": "python",
   "version": "3.10.11"
  }
 },
 "nbformat": 4,
 "nbformat_minor": 5
}
