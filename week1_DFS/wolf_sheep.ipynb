{
 "cells": [
  {
   "cell_type": "markdown",
   "id": "4b00738b",
   "metadata": {},
   "source": [
    "Need to keep track of\n",
    "\n",
    "- Current number of sheep\n",
    "\n",
    "- Current number of wolves\n",
    "\n",
    "- Current node\n",
    "\n",
    "- The set of available next nodes\n",
    "\n",
    "recursion like => def dfs(sheep, wolves, current_node, available_nodes):\n"
   ]
  },
  {
   "cell_type": "code",
   "execution_count": null,
   "id": "19a60b0e",
   "metadata": {},
   "outputs": [],
   "source": [
    "from collections import defaultdict\n",
    "\n",
    "def solution(info, edges):\n",
    "    graph = defaultdict(list)\n",
    "    for parent, child in edges:\n",
    "        graph[parent].append(child)\n",
    "\n",
    "    max_sheep = [0]\n",
    "\n",
    "    def dfs(sheep, wolves, current_node, available_nodes):\n",
    "        # update s/w counts\n",
    "        if info[current_node] == 0:\n",
    "            sheep += 1\n",
    "        else:\n",
    "            wolves += 1\n",
    "        \n",
    "        # prune if more wolves\n",
    "        if wolves >= sheep:\n",
    "            return\n",
    "        \n",
    "        max_sheep[0] = max(max_sheep[0], sheep)\n",
    "\n",
    "        # Important! explained below - Notes 1\n",
    "        next_nodes = available_nodes.copy()\n",
    "        next_nodes.extend(graph[current_node])\n",
    "        next_nodes.remove(current_node)\n",
    "\n",
    "        for next_node in next_nodes:\n",
    "            dfs(sheep, wolves, next_node, next_nodes.copy())\n",
    "\n",
    "    dfs(0, 0, 0, [0])\n",
    "    return max_sheep[0]"
   ]
  },
  {
   "cell_type": "markdown",
   "id": "2c7b431b",
   "metadata": {},
   "source": [
    "### Notes 1\n",
    "\n",
    "- Explore every possible move from the current node\n",
    "\n",
    "- Add new options (children of current node)\n",
    "\n",
    "- Remove the current node \n",
    "\n",
    "- Recursively explore all next steps \n",
    "\n",
    "but with **separate copies** of the state to avoid cross-contamination between paths"
   ]
  },
  {
   "cell_type": "code",
   "execution_count": null,
   "id": "14cc6f45",
   "metadata": {},
   "outputs": [],
   "source": []
  }
 ],
 "metadata": {
  "kernelspec": {
   "display_name": "Python 3",
   "language": "python",
   "name": "python3"
  },
  "language_info": {
   "codemirror_mode": {
    "name": "ipython",
    "version": 3
   },
   "file_extension": ".py",
   "mimetype": "text/x-python",
   "name": "python",
   "nbconvert_exporter": "python",
   "pygments_lexer": "ipython3",
   "version": "3.10.11"
  }
 },
 "nbformat": 4,
 "nbformat_minor": 5
}
