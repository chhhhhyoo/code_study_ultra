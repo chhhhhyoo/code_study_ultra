{
 "cells": [
  {
   "cell_type": "code",
   "execution_count": 2,
   "metadata": {},
   "outputs": [],
   "source": [
    "def solution(k, dungeons):    \n",
    "    def dfs(current_k, visited, count):\n",
    "        max_result = count\n",
    "\n",
    "        for i in range(len(dungeons)):\n",
    "            min_required, consumed = dungeons[i]\n",
    "            if not visited[i] and current_k >= min_required:\n",
    "                visited[i] = True\n",
    "                result = dfs(current_k - consumed, visited, count + 1)\n",
    "                visited[i] = False\n",
    "                max_result = max(max_result, result)\n",
    "                \n",
    "        return max_result\n",
    "                \n",
    "    visited = [False] * len(dungeons)\n",
    "    \n",
    "    return dfs(k, visited, 0)"
   ]
  },
  {
   "cell_type": "code",
   "execution_count": 3,
   "id": "3d74b574",
   "metadata": {},
   "outputs": [
    {
     "name": "stdout",
     "output_type": "stream",
     "text": [
      "3\n"
     ]
    }
   ],
   "source": [
    "dun = [[80,20],[50,40],[30,10]]\t\n",
    "k = 80\n",
    "print(solution(k,dun))"
   ]
  },
  {
   "cell_type": "code",
   "execution_count": null,
   "id": "7c214649",
   "metadata": {},
   "outputs": [],
   "source": []
  }
 ],
 "metadata": {
  "kernelspec": {
   "display_name": "Python 3",
   "language": "python",
   "name": "python3"
  },
  "language_info": {
   "codemirror_mode": {
    "name": "ipython",
    "version": 3
   },
   "file_extension": ".py",
   "mimetype": "text/x-python",
   "name": "python",
   "nbconvert_exporter": "python",
   "pygments_lexer": "ipython3",
   "version": "3.10.11"
  }
 },
 "nbformat": 4,
 "nbformat_minor": 5
}
