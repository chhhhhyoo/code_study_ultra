{
 "cells": [
  {
   "cell_type": "code",
   "execution_count": 1,
   "id": "56866bb2",
   "metadata": {},
   "outputs": [],
   "source": [
    "def solution(keyinput, board):\n",
    "    x, y = 0, 0\n",
    "    max_x = board[0] // 2\n",
    "    max_y = board[1] // 2\n",
    "\n",
    "    move = {\n",
    "        'left': (-1, 0),\n",
    "        'right': (1, 0),\n",
    "        'up': (0, 1),\n",
    "        'down': (0, -1)\n",
    "    }\n",
    "\n",
    "    for key in keyinput:\n",
    "        dx, dy = move[key] \n",
    "        nx, ny = x + dx, y + dy  \n",
    "\n",
    "        if -max_x <= nx <= max_x and -max_y <= ny <= max_y:\n",
    "            x, y = nx, ny\n",
    "\n",
    "    return [x, y]"
   ]
  },
  {
   "cell_type": "code",
   "execution_count": 3,
   "id": "2df1bbf7",
   "metadata": {},
   "outputs": [
    {
     "name": "stdout",
     "output_type": "stream",
     "text": [
      "[2, 1]\n"
     ]
    }
   ],
   "source": [
    "keyipt = [\"left\", \"right\", \"up\", \"right\", \"right\"]\n",
    "board = [11, 11]\n",
    "print(solution(keyipt, board))"
   ]
  },
  {
   "cell_type": "code",
   "execution_count": null,
   "id": "2fc276ad",
   "metadata": {},
   "outputs": [],
   "source": []
  }
 ],
 "metadata": {
  "kernelspec": {
   "display_name": "Python 3",
   "language": "python",
   "name": "python3"
  },
  "language_info": {
   "codemirror_mode": {
    "name": "ipython",
    "version": 3
   },
   "file_extension": ".py",
   "mimetype": "text/x-python",
   "name": "python",
   "nbconvert_exporter": "python",
   "pygments_lexer": "ipython3",
   "version": "3.10.11"
  }
 },
 "nbformat": 4,
 "nbformat_minor": 5
}
