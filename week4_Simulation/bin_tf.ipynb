{
 "cells": [
  {
   "cell_type": "code",
   "execution_count": 11,
   "metadata": {},
   "outputs": [],
   "source": [
    "def solution(s):\n",
    "    cnt_transforms = 0\n",
    "    cnt_zeros = 0\n",
    "    def zero_eraser(s):\n",
    "        num_zeros = s.count('0')\n",
    "        new_s = s.replace('0', '')\n",
    "        return new_s, num_zeros\n",
    "\n",
    "    def bin_tf(s):\n",
    "        length = len(s)\n",
    "        binary = bin(length)[2:]\n",
    "        return binary\n",
    "\n",
    "    while s != '1':\n",
    "        s, num_zeros = zero_eraser(s)\n",
    "        cnt_zeros += num_zeros\n",
    "        s = bin_tf(s)\n",
    "        cnt_transforms += 1\n",
    "    return [cnt_transforms, cnt_zeros]"
   ]
  },
  {
   "cell_type": "code",
   "execution_count": 12,
   "id": "53e75bed",
   "metadata": {},
   "outputs": [
    {
     "name": "stdout",
     "output_type": "stream",
     "text": [
      "[2, 5]\n"
     ]
    }
   ],
   "source": [
    "x = \"0111010\"\n",
    "print(solution(x))"
   ]
  },
  {
   "cell_type": "code",
   "execution_count": null,
   "id": "77709379",
   "metadata": {},
   "outputs": [],
   "source": []
  }
 ],
 "metadata": {
  "kernelspec": {
   "display_name": "Python 3",
   "language": "python",
   "name": "python3"
  },
  "language_info": {
   "codemirror_mode": {
    "name": "ipython",
    "version": 3
   },
   "file_extension": ".py",
   "mimetype": "text/x-python",
   "name": "python",
   "nbconvert_exporter": "python",
   "pygments_lexer": "ipython3",
   "version": "3.10.11"
  }
 },
 "nbformat": 4,
 "nbformat_minor": 5
}
