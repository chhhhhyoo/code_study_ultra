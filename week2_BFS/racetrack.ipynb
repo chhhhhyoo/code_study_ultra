{
 "cells": [
  {
   "cell_type": "code",
   "execution_count": null,
   "id": "e5ed510d",
   "metadata": {},
   "outputs": [],
   "source": [
    "from collections import deque\n",
    "\n",
    "def solution(board):\n",
    "    n = len(board)\n",
    "    dirs = [(-1, 0), (0, 1), (1, 0), (0, -1)]\n",
    "\n",
    "    inf = float('inf')\n",
    "    cost = [[[inf]*4 for _ in range(n)] for _ in range(n)]\n",
    "\n",
    "    queue = deque()\n",
    "\n",
    "    for dir_idx in [1, 2]:  # right, down\n",
    "        nx, ny = dirs[dir_idx]\n",
    "        nx += 0\n",
    "        ny += 0\n",
    "        if 0 <= nx < n and 0 <= ny < n and board[nx][ny] == 0:\n",
    "            cost[nx][ny][dir_idx] = 100\n",
    "            queue.append((nx, ny, dir_idx, 100))\n",
    "\n",
    "    while queue:\n",
    "        x, y, prev_dir, curr_cost = queue.popleft()\n",
    "\n",
    "        for i in range(4):  # up, right, down, left\n",
    "            dx, dy = dirs[i]\n",
    "            nx, ny = x + dx, y + dy\n",
    "\n",
    "            if 0 <= nx < n and 0 <= ny < n and board[nx][ny] == 0:\n",
    "                # turn/straight\n",
    "                if i == prev_dir:\n",
    "                    new_cost = curr_cost + 100\n",
    "                else:\n",
    "                    new_cost = curr_cost + 600\n",
    "\n",
    "                if new_cost < cost[nx][ny][i]:\n",
    "                    cost[nx][ny][i] = new_cost\n",
    "                    queue.append((nx, ny, i, new_cost))\n",
    "\n",
    "    return min(cost[n-1][n-1])"
   ]
  },
  {
   "cell_type": "code",
   "execution_count": 3,
   "id": "49ce922c",
   "metadata": {},
   "outputs": [
    {
     "name": "stdout",
     "output_type": "stream",
     "text": [
      "3800\n"
     ]
    }
   ],
   "source": [
    "board = [[0,0,0,0,0,0,0,1],[0,0,0,0,0,0,0,0],[0,0,0,0,0,1,0,0],[0,0,0,0,1,0,0,0],[0,0,0,1,0,0,0,1],[0,0,1,0,0,0,1,0],[0,1,0,0,0,1,0,0],[1,0,0,0,0,0,0,0]]\n",
    "print(solution(board))"
   ]
  },
  {
   "cell_type": "code",
   "execution_count": null,
   "id": "10392273",
   "metadata": {},
   "outputs": [],
   "source": []
  }
 ],
 "metadata": {
  "kernelspec": {
   "display_name": "Python 3",
   "language": "python",
   "name": "python3"
  },
  "language_info": {
   "codemirror_mode": {
    "name": "ipython",
    "version": 3
   },
   "file_extension": ".py",
   "mimetype": "text/x-python",
   "name": "python",
   "nbconvert_exporter": "python",
   "pygments_lexer": "ipython3",
   "version": "3.10.11"
  }
 },
 "nbformat": 4,
 "nbformat_minor": 5
}
